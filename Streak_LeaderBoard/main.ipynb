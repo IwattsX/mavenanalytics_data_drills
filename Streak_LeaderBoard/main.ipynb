{
 "cells": [
  {
   "cell_type": "code",
   "execution_count": null,
   "id": "55ccead1",
   "metadata": {},
   "outputs": [],
   "source": [
    "import pandas as pd"
   ]
  },
  {
   "cell_type": "code",
   "execution_count": null,
   "id": "6ea03f1a",
   "metadata": {},
   "outputs": [],
   "source": [
    "lesson_df = pd.read_csv(\"LessonStreaks.csv\", parse_dates=[\"date\"])\n",
    "print(len(lesson_df))\n",
    "lesson_df.head()\n"
   ]
  },
  {
   "cell_type": "code",
   "execution_count": null,
   "id": "4c241129",
   "metadata": {},
   "outputs": [],
   "source": [
    "lesson_sorted_df = lesson_df.sort_values(by=\"date\")\n",
    "lesson_sorted_df.head()"
   ]
  },
  {
   "cell_type": "code",
   "execution_count": null,
   "id": "3ccac63b",
   "metadata": {},
   "outputs": [],
   "source": [
    "user_grouped = lesson_df.date.diff().dt.days.ne(1).cumsum()\n",
    "user_grouped"
   ]
  }
 ],
 "metadata": {
  "kernelspec": {
   "display_name": "base",
   "language": "python",
   "name": "python3"
  },
  "language_info": {
   "codemirror_mode": {
    "name": "ipython",
    "version": 3
   },
   "file_extension": ".py",
   "mimetype": "text/x-python",
   "name": "python",
   "nbconvert_exporter": "python",
   "pygments_lexer": "ipython3",
   "version": "3.12.7"
  }
 },
 "nbformat": 4,
 "nbformat_minor": 5
}

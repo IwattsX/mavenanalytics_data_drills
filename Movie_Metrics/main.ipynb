{
 "cells": [
  {
   "cell_type": "code",
   "execution_count": 35,
   "id": "cf4a58a9",
   "metadata": {},
   "outputs": [],
   "source": [
    "import pandas as pd"
   ]
  },
  {
   "cell_type": "code",
   "execution_count": 36,
   "id": "409a0d33",
   "metadata": {},
   "outputs": [
    {
     "name": "stdout",
     "output_type": "stream",
     "text": [
      "   id created_at country_code\n",
      "0   1 2023-05-26           CA\n",
      "1   2 2023-06-15           CA\n",
      "2   3 2023-07-18           MX\n",
      "3   4 2023-07-27           CA\n",
      "4   5 2023-09-01           US\n",
      "   id  user_id       date                movie_name  finished\n",
      "0   1        2 2023-06-22  The Shawshank Redemption         1\n",
      "1   2        1 2023-07-23                     Shrek         0\n",
      "2   3        4 2023-07-27                Fight Club         1\n",
      "3   4        1 2023-08-23         Top Gun: Maverick         0\n",
      "4   5        4 2023-08-24               Oppenheimer         0\n"
     ]
    }
   ],
   "source": [
    "user_df = pd.read_csv(\"users.csv\", parse_dates=[\"created_at\"]) # make sure to parse the dates\n",
    "activity_df = pd.read_csv(\"activity.csv\", parse_dates=[\"date\"])\n",
    "\n",
    "print(user_df.head())\n",
    "print(activity_df.head())\n"
   ]
  },
  {
   "cell_type": "code",
   "execution_count": null,
   "id": "7df81865",
   "metadata": {},
   "outputs": [],
   "source": [
    "merged_df = pd.merge(\n",
    "    user_df,\n",
    "    activity_df,\n",
    "    how=\"right\",\n",
    "    left_on=\"id\",\n",
    "    right_on=\"user_id\"\n",
    ")\n",
    "merged_df.head()"
   ]
  },
  {
   "cell_type": "code",
   "execution_count": 38,
   "id": "3c20443c",
   "metadata": {},
   "outputs": [],
   "source": [
    "finished_df = merged_df[merged_df['finished'] == True]\n"
   ]
  },
  {
   "cell_type": "code",
   "execution_count": 49,
   "id": "b2e67d3f",
   "metadata": {},
   "outputs": [],
   "source": [
    "summary = finished_df.groupby(\"user_id\").agg(\n",
    "    first_movie_date=(\"date\", \"min\"),\n",
    "    last_movie_date=(\"date\", \"max\"),\n",
    "    first_movie_finished = (\"movie_name\", \"first\"),\n",
    "    last_movies_finished=(\"movie_name\", \"last\"),\n",
    "    movies_finished=(\"finished\", \"sum\")\n",
    ").reset_index()"
   ]
  },
  {
   "cell_type": "code",
   "execution_count": 50,
   "id": "b1790ef5",
   "metadata": {},
   "outputs": [
    {
     "data": {
      "text/html": [
       "<div>\n",
       "<style scoped>\n",
       "    .dataframe tbody tr th:only-of-type {\n",
       "        vertical-align: middle;\n",
       "    }\n",
       "\n",
       "    .dataframe tbody tr th {\n",
       "        vertical-align: top;\n",
       "    }\n",
       "\n",
       "    .dataframe thead th {\n",
       "        text-align: right;\n",
       "    }\n",
       "</style>\n",
       "<table border=\"1\" class=\"dataframe\">\n",
       "  <thead>\n",
       "    <tr style=\"text-align: right;\">\n",
       "      <th></th>\n",
       "      <th>user_id</th>\n",
       "      <th>first_movie_date</th>\n",
       "      <th>last_movie_date</th>\n",
       "      <th>first_movie_finished</th>\n",
       "      <th>last_movies_finished</th>\n",
       "      <th>movies_finished</th>\n",
       "    </tr>\n",
       "  </thead>\n",
       "  <tbody>\n",
       "    <tr>\n",
       "      <th>1</th>\n",
       "      <td>2</td>\n",
       "      <td>2023-06-22</td>\n",
       "      <td>2025-05-01</td>\n",
       "      <td>The Shawshank Redemption</td>\n",
       "      <td>Fight Club</td>\n",
       "      <td>12</td>\n",
       "    </tr>\n",
       "    <tr>\n",
       "      <th>17</th>\n",
       "      <td>18</td>\n",
       "      <td>2024-10-01</td>\n",
       "      <td>2025-05-16</td>\n",
       "      <td>Fight Club</td>\n",
       "      <td>Fight Club</td>\n",
       "      <td>28</td>\n",
       "    </tr>\n",
       "    <tr>\n",
       "      <th>19</th>\n",
       "      <td>20</td>\n",
       "      <td>2024-11-27</td>\n",
       "      <td>2025-05-02</td>\n",
       "      <td>Luca</td>\n",
       "      <td>Fight Club</td>\n",
       "      <td>19</td>\n",
       "    </tr>\n",
       "  </tbody>\n",
       "</table>\n",
       "</div>"
      ],
      "text/plain": [
       "    user_id first_movie_date last_movie_date      first_movie_finished  \\\n",
       "1         2       2023-06-22      2025-05-01  The Shawshank Redemption   \n",
       "17       18       2024-10-01      2025-05-16                Fight Club   \n",
       "19       20       2024-11-27      2025-05-02                      Luca   \n",
       "\n",
       "   last_movies_finished  movies_finished  \n",
       "1            Fight Club               12  \n",
       "17           Fight Club               28  \n",
       "19           Fight Club               19  "
      ]
     },
     "execution_count": 50,
     "metadata": {},
     "output_type": "execute_result"
    }
   ],
   "source": [
    "get_fight_club = summary[summary['last_movies_finished'] == 'Fight Club']\n",
    "get_fight_club"
   ]
  }
 ],
 "metadata": {
  "kernelspec": {
   "display_name": "base",
   "language": "python",
   "name": "python3"
  },
  "language_info": {
   "codemirror_mode": {
    "name": "ipython",
    "version": 3
   },
   "file_extension": ".py",
   "mimetype": "text/x-python",
   "name": "python",
   "nbconvert_exporter": "python",
   "pygments_lexer": "ipython3",
   "version": "3.12.7"
  }
 },
 "nbformat": 4,
 "nbformat_minor": 5
}
